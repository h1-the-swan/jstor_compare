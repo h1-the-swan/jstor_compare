{
 "cells": [
  {
   "cell_type": "code",
   "execution_count": 1,
   "metadata": {
    "collapsed": true
   },
   "outputs": [],
   "source": [
    "import sys, os, time"
   ]
  },
  {
   "cell_type": "code",
   "execution_count": 37,
   "metadata": {
    "collapsed": true
   },
   "outputs": [],
   "source": [
    "import scipy.stats as stats"
   ]
  },
  {
   "cell_type": "code",
   "execution_count": 2,
   "metadata": {
    "collapsed": true
   },
   "outputs": [],
   "source": [
    "import pandas as pd\n",
    "import numpy as np"
   ]
  },
  {
   "cell_type": "code",
   "execution_count": 3,
   "metadata": {
    "collapsed": true
   },
   "outputs": [],
   "source": [
    "from glob import glob"
   ]
  },
  {
   "cell_type": "code",
   "execution_count": 4,
   "metadata": {
    "collapsed": true
   },
   "outputs": [],
   "source": [
    "g = glob('vi_data/*.csv')"
   ]
  },
  {
   "cell_type": "code",
   "execution_count": 7,
   "metadata": {
    "collapsed": false
   },
   "outputs": [],
   "source": [
    "x = pd.read_csv(g[0], header=None)"
   ]
  },
  {
   "cell_type": "code",
   "execution_count": 13,
   "metadata": {
    "collapsed": false
   },
   "outputs": [],
   "source": [
    "def parse_single_line_csv(fname, sep=','):\n",
    "    with open(fname, 'r') as f:\n",
    "        row = f.readline()\n",
    "        row = row.split(sep)\n",
    "        cl_meta = []\n",
    "        for i in range(2):\n",
    "            cl_fname = row[i]\n",
    "            spl = cl_fname.split('/')\n",
    "            method = spl[4]\n",
    "            cl_id = spl[5]\n",
    "            cl_meta.append( (method, cl_id) )\n",
    "        cl_meta = tuple(cl_meta)\n",
    "        vi = float(row[2])\n",
    "    return cl_meta, vi"
   ]
  },
  {
   "cell_type": "code",
   "execution_count": 14,
   "metadata": {
    "collapsed": false
   },
   "outputs": [
    {
     "data": {
      "text/plain": [
       "((('undirdir', '1160295_235'), ('outdirdir', '1166684_245')), 1.83587110988)"
      ]
     },
     "execution_count": 14,
     "metadata": {},
     "output_type": "execute_result"
    }
   ],
   "source": [
    "parse_single_line_csv(g[0])"
   ]
  },
  {
   "cell_type": "code",
   "execution_count": 15,
   "metadata": {
    "collapsed": true
   },
   "outputs": [],
   "source": [
    "(((x1, x2), (y1,y2)), vi) = parse_single_line_csv(g[0])"
   ]
  },
  {
   "cell_type": "code",
   "execution_count": 17,
   "metadata": {
    "collapsed": false
   },
   "outputs": [
    {
     "name": "stdout",
     "output_type": "stream",
     "text": [
      "('undirdir', '1160295_235', 'outdirdir', '1166684_245', 1.83587110988)\n"
     ]
    }
   ],
   "source": [
    "print(x1, x2, y1, y2, vi)"
   ]
  },
  {
   "cell_type": "code",
   "execution_count": 21,
   "metadata": {
    "collapsed": true
   },
   "outputs": [],
   "source": [
    "rows = []\n",
    "for fname in g:\n",
    "    (((x1, x2), (y1,y2)), vi) = parse_single_line_csv(fname)\n",
    "    rows.append( (x1, x2, y1, y2, vi) )\n",
    "    "
   ]
  },
  {
   "cell_type": "code",
   "execution_count": 27,
   "metadata": {
    "collapsed": true
   },
   "outputs": [],
   "source": [
    "columns = ['method_1', 'id_1', 'method_2', 'id_1', 'vi']\n",
    "df = pd.DataFrame(rows, columns=columns)"
   ]
  },
  {
   "cell_type": "code",
   "execution_count": 28,
   "metadata": {
    "collapsed": false
   },
   "outputs": [],
   "source": [
    "def methods_parse(row):\n",
    "    methods = [row['method_1'], row['method_2']]\n",
    "    methods.sort()\n",
    "    return ', '.join(methods)\n",
    "df['methods'] = df.apply(methods_parse, axis=1)"
   ]
  },
  {
   "cell_type": "code",
   "execution_count": 46,
   "metadata": {
    "collapsed": false
   },
   "outputs": [
    {
     "data": {
      "text/plain": [
       "methods\n",
       "pagerank, pagerank                          1.176754\n",
       "pagerank_unrecorded, pagerank_unrecorded    1.799974\n",
       "undirdir, undirdir                          1.862236\n",
       "pagerank_unrecorded, undirdir               1.875018\n",
       "outdirdir, outdirdir                        1.884981\n",
       "outdirdir, pagerank_unrecorded              1.944723\n",
       "outdirdir, undirdir                         1.970177\n",
       "pagerank, undirdir                          2.002739\n",
       "outdirdir, pagerank                         2.061885\n",
       "pagerank, pagerank_unrecorded               2.086319\n",
       "Name: vi, dtype: float64"
      ]
     },
     "execution_count": 46,
     "metadata": {},
     "output_type": "execute_result"
    }
   ],
   "source": [
    "gb = df.groupby('methods')\n",
    "gb['vi'].mean().sort_values()"
   ]
  },
  {
   "cell_type": "code",
   "execution_count": 47,
   "metadata": {
    "collapsed": false
   },
   "outputs": [],
   "source": [
    "values_per_group = [col for _, col in gb['vi']]"
   ]
  },
  {
   "cell_type": "code",
   "execution_count": 52,
   "metadata": {
    "collapsed": false
   },
   "outputs": [
    {
     "data": {
      "text/plain": [
       "F_onewayResult(statistic=168.96005840355954, pvalue=5.8831001346532458e-86)"
      ]
     },
     "execution_count": 52,
     "metadata": {},
     "output_type": "execute_result"
    }
   ],
   "source": [
    "stats.f_oneway(*values_per_group)"
   ]
  },
  {
   "cell_type": "code",
   "execution_count": 62,
   "metadata": {
    "collapsed": false
   },
   "outputs": [
    {
     "data": {
      "text/plain": [
       "Ttest_indResult(statistic=-3.3068230486446049, pvalue=0.0027610528858429172)"
      ]
     },
     "execution_count": 62,
     "metadata": {},
     "output_type": "execute_result"
    }
   ],
   "source": [
    "stats.ttest_ind(df[df.methods=='pagerank_unrecorded, pagerank_unrecorded']['vi'], df[df.methods=='pagerank_unrecorded, undirdir']['vi'])"
   ]
  },
  {
   "cell_type": "code",
   "execution_count": null,
   "metadata": {
    "collapsed": true
   },
   "outputs": [],
   "source": [
    "stats.ttest_ind"
   ]
  }
 ],
 "metadata": {
  "kernelspec": {
   "display_name": "Python 2",
   "language": "python",
   "name": "python2"
  },
  "language_info": {
   "codemirror_mode": {
    "name": "ipython",
    "version": 2
   },
   "file_extension": ".py",
   "mimetype": "text/x-python",
   "name": "python",
   "nbconvert_exporter": "python",
   "pygments_lexer": "ipython2",
   "version": "2.7.12"
  }
 },
 "nbformat": 4,
 "nbformat_minor": 0
}
