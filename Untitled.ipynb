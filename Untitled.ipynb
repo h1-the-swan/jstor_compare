{
 "cells": [
  {
   "cell_type": "code",
   "execution_count": 1,
   "metadata": {
    "collapsed": false
   },
   "outputs": [],
   "source": [
    "import pandas as pd\n",
    "import numpy as np\n",
    "import matplotlib.pyplot as plt\n",
    "import seaborn as sns"
   ]
  },
  {
   "cell_type": "code",
   "execution_count": 14,
   "metadata": {
    "collapsed": true
   },
   "outputs": [],
   "source": [
    "%matplotlib inline"
   ]
  },
  {
   "cell_type": "code",
   "execution_count": 2,
   "metadata": {
    "collapsed": true
   },
   "outputs": [],
   "source": [
    "from glob import glob\n",
    "import sys, time, os, re"
   ]
  },
  {
   "cell_type": "code",
   "execution_count": 3,
   "metadata": {
    "collapsed": true
   },
   "outputs": [],
   "source": [
    "fnames = glob('*.csv')"
   ]
  },
  {
   "cell_type": "code",
   "execution_count": 4,
   "metadata": {
    "collapsed": false
   },
   "outputs": [],
   "source": [
    "dfs = []\n",
    "for fname in fnames:\n",
    "    method = re.search('counts_data-(.+?)\\.csv', fname).group(1)\n",
    "    df = pd.read_csv(fname)\n",
    "    df['method'] = method\n",
    "    dfs.append(df)"
   ]
  },
  {
   "cell_type": "code",
   "execution_count": 5,
   "metadata": {
    "collapsed": false
   },
   "outputs": [],
   "source": [
    "df = pd.concat(dfs)"
   ]
  },
  {
   "cell_type": "code",
   "execution_count": 16,
   "metadata": {
    "collapsed": false
   },
   "outputs": [
    {
     "data": {
      "text/plain": [
       "method               cl_depth\n",
       "outdirdir            2           8.839487e+04\n",
       "                     3           4.204047e+04\n",
       "                     4           1.614349e+06\n",
       "                     5           1.285757e+06\n",
       "                     6           2.547070e+05\n",
       "                     7           4.293282e+04\n",
       "                     8           4.757852e+03\n",
       "                     9           4.386723e+02\n",
       "                     10          5.012847e+01\n",
       "                     11          4.956044e+00\n",
       "pagerank             2           6.681515e+06\n",
       "                     3           1.034700e+05\n",
       "pagerank_unrecorded  2           8.676475e+04\n",
       "                     3           1.896754e+04\n",
       "                     4           8.176042e+05\n",
       "                     5           1.507027e+06\n",
       "                     6           3.403555e+05\n",
       "                     7           5.186937e+04\n",
       "                     8           5.175988e+03\n",
       "                     9           3.492527e+02\n",
       "                     10          3.480089e+01\n",
       "undirdir             2           8.737896e+04\n",
       "                     3           2.626152e+04\n",
       "                     4           1.295888e+06\n",
       "                     5           1.519655e+06\n",
       "                     6           2.749446e+05\n",
       "                     7           4.506495e+04\n",
       "                     8           5.201006e+03\n",
       "                     9           6.447357e+02\n",
       "                     10          7.190165e+01\n",
       "                     11          7.714286e+00\n",
       "Name: cl_count, dtype: float64"
      ]
     },
     "execution_count": 16,
     "metadata": {},
     "output_type": "execute_result"
    }
   ],
   "source": [
    "df.groupby(['method', 'cl_depth']).cl_count.sum()"
   ]
  },
  {
   "cell_type": "code",
   "execution_count": null,
   "metadata": {
    "collapsed": true
   },
   "outputs": [],
   "source": []
  }
 ],
 "metadata": {
  "kernelspec": {
   "display_name": "Python 2",
   "language": "python",
   "name": "python2"
  },
  "language_info": {
   "codemirror_mode": {
    "name": "ipython",
    "version": 2
   },
   "file_extension": ".py",
   "mimetype": "text/x-python",
   "name": "python",
   "nbconvert_exporter": "python",
   "pygments_lexer": "ipython2",
   "version": "2.7.12"
  }
 },
 "nbformat": 4,
 "nbformat_minor": 0
}
